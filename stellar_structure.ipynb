{
 "cells": [
  {
   "cell_type": "code",
   "execution_count": 1480,
   "metadata": {},
   "outputs": [],
   "source": [
    "#import appropriate packages\n",
    "import numpy as np\n",
    "%matplotlib inline\n",
    "import matplotlib.pyplot as plt\n",
    "from scipy.integrate import odeint\n",
    "from scipy.integrate import quad\n",
    "from scipy.interpolate import interp1d\n",
    "from scipy.integrate import cumtrapz\n",
    "from scipy.optimize import minimize\n",
    "from scipy.interpolate import RegularGridInterpolator\n",
    "import pandas as pd"
   ]
  },
  {
   "cell_type": "code",
   "execution_count": 1481,
   "metadata": {},
   "outputs": [],
   "source": [
    "m0 = 1.11542e66 #solar mass in eV\n",
    "X = 0.7\n",
    "Y = 0.28\n",
    "Z = 0.02\n",
    "mu = 4/(3+5*X)"
   ]
  },
  {
   "cell_type": "code",
   "execution_count": 1482,
   "metadata": {},
   "outputs": [
    {
     "data": {
      "text/plain": [
       "0.6153846153846154"
      ]
     },
     "execution_count": 1482,
     "metadata": {},
     "output_type": "execute_result"
    }
   ],
   "source": [
    "mu"
   ]
  },
  {
   "cell_type": "code",
   "execution_count": 1483,
   "metadata": {},
   "outputs": [],
   "source": [
    "mn = 938.272e6\n",
    "g_in_ev = 5.60959e32 \n",
    "cm_in_ev = 50677.3\n",
    "K_in_ev = 8.61733e-5\n",
    "erggs_to_dimensionless = 0.5194\n",
    "cm2g_to_dimensionless = 0.02297\n",
    "gcm3_to_dimensionless = 0.1693\n",
    "a = np.pi**2/15 #radiation constant\n",
    "sigma = np.pi**2/60\n",
    "r0 = 3.52562e15\n",
    "P0 = 5.4023e13\n",
    "rho0 = 2.54525e19\n",
    "T0 = mu*mn*2.1225e-6"
   ]
  },
  {
   "cell_type": "code",
   "execution_count": 1484,
   "metadata": {},
   "outputs": [],
   "source": [
    "kappa_data_raw = pd.read_csv(\"data.csv\")\n",
    "kappa_data_raw = kappa_data_raw.interpolate()\n",
    "kappa_data_raw2 = kappa_data_raw.to_numpy()"
   ]
  },
  {
   "cell_type": "code",
   "execution_count": 1485,
   "metadata": {},
   "outputs": [],
   "source": [
    "kappa_data = kappa_data_raw2[:,1:]"
   ]
  },
  {
   "cell_type": "code",
   "execution_count": 1486,
   "metadata": {},
   "outputs": [
    {
     "data": {
      "text/plain": [
       "(70, 19)"
      ]
     },
     "execution_count": 1486,
     "metadata": {},
     "output_type": "execute_result"
    }
   ],
   "source": [
    "kappa_data.shape"
   ]
  },
  {
   "cell_type": "code",
   "execution_count": 1487,
   "metadata": {},
   "outputs": [],
   "source": [
    "kappa_logT = np.array([3.75, 3.8 , 3.85, 3.9 , 3.95, 4.  , 4.05, 4.1 , 4.15, 4.2 , 4.25,\n",
    "       4.3 , 4.35, 4.4 , 4.45, 4.5 , 4.55, 4.6 , 4.65, 4.7 , 4.75, 4.8 ,\n",
    "       4.85, 4.9 , 4.95, 5.  , 5.05, 5.1 , 5.15, 5.2 , 5.25, 5.3 , 5.35,\n",
    "       5.4 , 5.45, 5.5 , 5.55, 5.6 , 5.65, 5.7 , 5.75, 5.8 , 5.85, 5.9 ,\n",
    "       5.95, 6.  , 6.1 , 6.2 , 6.3 , 6.4 , 6.5 , 6.6 , 6.7 , 6.8 , 6.9 ,\n",
    "       7.  , 7.1 , 7.2 , 7.3 , 7.4 , 7.5 , 7.6 , 7.7 , 7.8 , 7.9 , 8.  ,\n",
    "       8.1 , 8.3 , 8.5 , 8.7 ])"
   ]
  },
  {
   "cell_type": "code",
   "execution_count": 1488,
   "metadata": {},
   "outputs": [],
   "source": [
    "kappa_logR = np.array([-8, -7.5, -7, -6.5, -6, -5.5, -5, -4.5,\n",
    "       -4, -3.5, -3, -2.5, -2, -1.5, -1, -0.5, 0, 0.5,\n",
    "       1])"
   ]
  },
  {
   "cell_type": "code",
   "execution_count": 1489,
   "metadata": {},
   "outputs": [],
   "source": [
    "kappa_interp = RegularGridInterpolator((kappa_logT, kappa_logR), kappa_data, bounds_error=False, fill_value=None)"
   ]
  },
  {
   "cell_type": "code",
   "execution_count": 1490,
   "metadata": {},
   "outputs": [],
   "source": [
    "logkappa_min = np.min(kappa_data)\n",
    "logkappa_max = np.max(kappa_data)"
   ]
  },
  {
   "cell_type": "code",
   "execution_count": 1491,
   "metadata": {},
   "outputs": [
    {
     "data": {
      "text/plain": [
       "-2.251"
      ]
     },
     "execution_count": 1491,
     "metadata": {},
     "output_type": "execute_result"
    }
   ],
   "source": [
    "logkappa_min"
   ]
  },
  {
   "cell_type": "code",
   "execution_count": 1492,
   "metadata": {},
   "outputs": [
    {
     "data": {
      "text/plain": [
       "5.365"
      ]
     },
     "execution_count": 1492,
     "metadata": {},
     "output_type": "execute_result"
    }
   ],
   "source": [
    "logkappa_max"
   ]
  },
  {
   "cell_type": "code",
   "execution_count": 1495,
   "metadata": {},
   "outputs": [],
   "source": [
    "a0 = 1e-6\n",
    "a0_p = 1e-13"
   ]
  },
  {
   "cell_type": "code",
   "execution_count": 1645,
   "metadata": {},
   "outputs": [],
   "source": [
    "def Delta_rad(vec,m):\n",
    "    l,P,r,T = vec\n",
    "    # print(kappa(T,P))\n",
    "    return 3/16/np.pi/a*kappa(T,P)*l*P/(np.abs(m)+a0)/(np.abs(T)+a0)**4\n",
    "\n",
    "def kappa(T,P):\n",
    "    T_in_K = T0*(np.abs(T)+a0)/K_in_ev\n",
    "    logT = np.log10(T_in_K)\n",
    "    T6 = T_in_K/1e6\n",
    "    rho = rho_cgs(T,P) \n",
    "    R = rho/T6**3\n",
    "    logR = np.log10(R)\n",
    "    logkappa = kappa_interp([logT,logR])\n",
    "    # print(logkappa)\n",
    "    logkappa = max(logkappa_min,logkappa)\n",
    "    # print(logkappa)\n",
    "    logkappa = min(logkappa_max,logkappa)\n",
    "    # print(logkappa)\n",
    "    # print(T_in_K)\n",
    "    # print(logT,logR,logkappa)\n",
    "    # print(10**(logkappa))\n",
    "    return 10**(logkappa)*cm2g_to_dimensionless\n",
    "\n",
    "\n",
    "\n",
    "def Delta_ad():\n",
    "    return 0.4\n",
    "\n",
    "def Delta(vec,m):\n",
    "    return min(Delta_rad(vec,m),Delta_ad())\n",
    "\n",
    "def rho_cgs(T,P):\n",
    "    return (np.abs(P)+a0_p)/(np.abs(T)+a0)/gcm3_to_dimensionless\n",
    "\n",
    "def epsilon_pp(T,P):\n",
    "    T7 = T0*(np.abs(T)+a0)/K_in_ev/1e7\n",
    "    T9 = 0.01*T7\n",
    "    rho= rho_cgs(T,P)\n",
    "    f11 = np.exp(5.92e-3*(rho/T7**3)**(1/2))\n",
    "    # f11 = 1 # screening factor np.exp(5.92e-3*(rho_cgs/T7**3)**(1/2))\n",
    "    g11 = 1  #1+3.82*T9 + 1.51*T9**2+0.144*T9**3-0.0114*T9**4\n",
    "    psi = 1 ##pp-I branch in the sun\n",
    "    return 2.57e4*psi*f11*g11*rho*X**2*T9**(-2/3)*np.exp(-3.381/T9**(1/3))*erggs_to_dimensionless\n"
   ]
  },
  {
   "cell_type": "code",
   "execution_count": 1538,
   "metadata": {},
   "outputs": [],
   "source": [
    "def structure_ode(vec,m):\n",
    "    l,P,r,T = vec\n",
    "    dldm = epsilon_pp(T,P)\n",
    "    dPdm = -m/4/np.pi/(np.abs(r)+a0)**4\n",
    "    drdm = 1/4/np.pi*T/(np.abs(P)+a0_p)/(np.abs(r)+a0)**2\n",
    "    dTdm = -m*T/4/np.pi/(np.abs(P)+a0_p)/(np.abs(r)+a0)**4*Delta(vec, m)\n",
    "    return [dldm,dPdm,drdm,dTdm]\n",
    "\n"
   ]
  },
  {
   "cell_type": "code",
   "execution_count": 1669,
   "metadata": {},
   "outputs": [],
   "source": [
    "def shotting(vec):\n",
    "    l_s,P_0, r_s, T_0 = vec\n",
    "    ms = np.linspace(0,0.5,10000)\n",
    "    load1 = odeint(structure_ode,[1e-7,P_0,1e-7,T_0],ms,full_output=1)\n",
    "    msinv = np.linspace(1,0.5,10000)\n",
    "    load2 = odeint(structure_ode,[l_s,8.877e-12,r_s,0.0004],msinv,full_output=1)\n",
    "\n",
    "    return (load1[0][-1,0]-load2[0][-1,0])**2+(load1[0][-1,1]-load2[0][-1,1])**2/10+(load1[0][-1,2]-load2[0][-1,2])**2+(load1[0][-1,3]-load2[0][-1,3])**2"
   ]
  },
  {
   "cell_type": "code",
   "execution_count": 1699,
   "metadata": {},
   "outputs": [
    {
     "data": {
      "text/plain": [
       "0.017536930207836803"
      ]
     },
     "execution_count": 1699,
     "metadata": {},
     "output_type": "execute_result"
    }
   ],
   "source": [
    "shotting([1,15,1.4,1])"
   ]
  },
  {
   "cell_type": "code",
   "execution_count": 1700,
   "metadata": {},
   "outputs": [],
   "source": [
    "res = minimize(shotting,[ 1,15,  1.4,  1])"
   ]
  },
  {
   "cell_type": "code",
   "execution_count": 1701,
   "metadata": {},
   "outputs": [
    {
     "data": {
      "text/plain": [
       "      fun: 0.00013721101116108877\n",
       " hess_inv: array([[ 0.1419688 ,  1.21243344, -0.38321639,  0.07633474],\n",
       "       [ 1.21243344, 18.49666912, -3.27287663,  0.91742029],\n",
       "       [-0.38321639, -3.27287663,  1.0344262 , -0.20606182],\n",
       "       [ 0.07633474,  0.91742029, -0.20606182,  0.05069541]])\n",
       "      jac: array([-0.01056363, -0.00035231, -0.00448804,  0.01465796])\n",
       "  message: 'Desired error not necessarily achieved due to precision loss.'\n",
       "     nfev: 288\n",
       "      nit: 26\n",
       "     njev: 56\n",
       "   status: 2\n",
       "  success: False\n",
       "        x: array([ 1.01107679, 15.12306553,  1.39295859,  1.01164574])"
      ]
     },
     "execution_count": 1701,
     "metadata": {},
     "output_type": "execute_result"
    }
   ],
   "source": [
    "res"
   ]
  },
  {
   "cell_type": "code",
   "execution_count": 1723,
   "metadata": {},
   "outputs": [],
   "source": [
    "l_s,P_0, r_s, T_0 = res.x\n",
    "# l_s,P_0, r_s, T_0 =  [1,100,1,1.2]\n",
    "ms = np.linspace(0,0.5,1000)\n",
    "load1 = odeint(structure_ode,[1e-4,P_0,1e-4,T_0],ms,full_output=1)\n",
    "msinv = np.linspace(1,0.5,1000)\n",
    "load2 = odeint(structure_ode,[l_s,8.877e-12,r_s,0.0004],msinv,full_output=1)\n",
    "# load3 = odeint(structure_ode,[l_s,8.877e-12,r_s,0.0004],msinv,full_output=1)"
   ]
  },
  {
   "cell_type": "code",
   "execution_count": 1724,
   "metadata": {},
   "outputs": [
    {
     "data": {
      "text/plain": [
       "[<matplotlib.lines.Line2D at 0x7ff610918f40>]"
      ]
     },
     "execution_count": 1724,
     "metadata": {},
     "output_type": "execute_result"
    },
    {
     "data": {
      "image/png": "[encoded data removed]",
      "text/plain": [
       "<Figure size 432x288 with 1 Axes>"
      ]
     },
     "metadata": {
      "needs_background": "light"
     },
     "output_type": "display_data"
    }
   ],
   "source": [
    "plt.plot(ms,load1[0][:,2])\n",
    "plt.plot(msinv,load2[0][:,2])\n",
    "# plt.plot(msinv,load3[0][:,3])"
   ]
  },
  {
   "cell_type": "code",
   "execution_count": 1775,
   "metadata": {},
   "outputs": [
    {
     "data": {
      "text/plain": [
       "Text(0, 0.5, '$T/(\\\\mu m_u GM_{\\\\odot}/R_{\\\\odot})}$')"
      ]
     },
     "execution_count": 1775,
     "metadata": {},
     "output_type": "execute_result"
    },
    {
     "data": {
      "image/png": "[encoded data removed]",
      "text/plain": [
       "<Figure size 1080x648 with 4 Axes>"
      ]
     },
     "metadata": {
      "needs_background": "light"
     },
     "output_type": "display_data"
    }
   ],
   "source": [
    "plt.rcParams[\"font.size\"]  =15\n",
    "fig, axs = plt.subplots(2,2,figsize = [15,9])\n",
    "axs[0,0].plot(ms,load1[0][:,0],c = \"k\", linewidth  =3)\n",
    "axs[0,0].plot(msinv,load2[0][:,0],c = \"k\", linewidth  =3)\n",
    "axs[0,0].set_ylabel(r\"$l/L_{\\odot}$\")\n",
    "axs[0,1].plot(ms,load1[0][:,1],c = \"k\", linewidth  =3)\n",
    "axs[0,1].plot(msinv,load2[0][:,1],c = \"k\", linewidth  =3)\n",
    "axs[0,1].set_ylabel(r\"$P/(GM_{\\odot}^2/R_{\\odot}^4)$\")\n",
    "axs[1,0].plot(ms,load1[0][:,2],c = \"k\", linewidth  =3)\n",
    "axs[1,0].plot(msinv,load2[0][:,2],c = \"k\", linewidth  =3)\n",
    "axs[1,0].set_ylabel(r\"$r//R_{\\odot}$\")\n",
    "axs[1,1].plot(ms,load1[0][:,3],c = \"k\", linewidth  =3)\n",
    "axs[1,1].plot(msinv,load2[0][:,3],c = \"k\", linewidth  =3)\n",
    "axs[1,1].set_ylabel(r\"$T/(\\mu m_u GM_{\\odot}/R_{\\odot})}$\")"
   ]
  },
  {
   "cell_type": "code",
   "execution_count": 1730,
   "metadata": {},
   "outputs": [],
   "source": [
    "mss = np.concatenate((ms,np.flip(msinv)))"
   ]
  },
  {
   "cell_type": "code",
   "execution_count": 1742,
   "metadata": {},
   "outputs": [],
   "source": [
    "lss = np.concatenate((load1[0][:,0],np.flip(load2[0][:,0])))\n",
    "Pss = np.concatenate((load1[0][:,1],np.flip(load2[0][:,1])))\n",
    "rss = np.concatenate((load1[0][:,2],np.flip(load2[0][:,2])))\n",
    "Tss = np.concatenate((load1[0][:,3],np.flip(load2[0][:,3])))"
   ]
  },
  {
   "cell_type": "code",
   "execution_count": 1782,
   "metadata": {},
   "outputs": [],
   "source": [
    "delta_ad = np.zeros_like(mss)\n",
    "delta_rad = np.zeros_like(mss)\n",
    "epsilon_pps = np.zeros_like(mss)\n",
    "# delta_act = np.zeros_like(mss)\n",
    "for i, m in enumerate(mss):\n",
    "    l = lss[i]\n",
    "    P = Pss[i]\n",
    "    r = rss[i]\n",
    "    T = Tss[i]\n",
    "    delta_ad[i] = Delta_ad()\n",
    "    # delta_act[i] = Delta([l,P,r,T],m)\n",
    "    delta_rad[i] = Delta_rad([l,P,r,T],m)\n",
    "    epsilon_pps[i] = epsilon_pp(T,P)"
   ]
  },
  {
   "cell_type": "code",
   "execution_count": 1784,
   "metadata": {},
   "outputs": [],
   "source": [
    "df = pd.DataFrame(\n",
    "    {\"m\": mss,\n",
    "     \"l\": lss,\n",
    "     \"P\": Pss,\n",
    "     \"r\": rss,\n",
    "     \"T\": Tss,\n",
    "     \"rho\": Pss/Tss,\n",
    "     \"epsilon\": epsilon_pps,\n",
    "     \"adiabatic temperature gradient\": delta_ad,\n",
    "     \"actual temperature gradient\": delta_act,\n",
    "     \"radiative\": delta_rad<delta_ad\n",
    "     }\n",
    ")"
   ]
  },
  {
   "cell_type": "code",
   "execution_count": 1787,
   "metadata": {},
   "outputs": [],
   "source": [
    "df.to_csv(\"result.csv\")"
   ]
  }
 ],
 "metadata": {
  "kernelspec": {
   "display_name": "sna",
   "language": "python",
   "name": "python3"
  },
  "language_info": {
   "codemirror_mode": {
    "name": "ipython",
    "version": 3
   },
   "file_extension": ".py",
   "mimetype": "text/x-python",
   "name": "python",
   "nbconvert_exporter": "python",
   "pygments_lexer": "ipython3",
   "version": "3.9.7"
  },
  "orig_nbformat": 4,
  "vscode": {
   "interpreter": {
    "hash": "87babb1cb7045b4a6d988cc968eb5ad2c22f98c48192081cabc5c1302f258059"
   }
  }
 },
 "nbformat": 4,
 "nbformat_minor": 2
}
